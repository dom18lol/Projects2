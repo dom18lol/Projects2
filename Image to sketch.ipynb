{
  "nbformat": 4,
  "nbformat_minor": 0,
  "metadata": {
    "colab": {
      "name": "Untitled11.ipynb",
      "provenance": []
    },
    "kernelspec": {
      "name": "python3",
      "display_name": "Python 3"
    }
  },
  "cells": [
    {
      "cell_type": "code",
      "metadata": {
        "id": "bt6ZNImjPsQq",
        "colab_type": "code",
        "colab": {}
      },
      "source": [
        "import cv2\n",
        "import sys"
      ],
      "execution_count": 1,
      "outputs": []
    },
    {
      "cell_type": "code",
      "metadata": {
        "id": "jh2NkGW3QA0B",
        "colab_type": "code",
        "colab": {}
      },
      "source": [
        "image = cv2.imread('doggo.jpg')"
      ],
      "execution_count": 3,
      "outputs": []
    },
    {
      "cell_type": "code",
      "metadata": {
        "id": "GlwfRZtvQT6n",
        "colab_type": "code",
        "colab": {}
      },
      "source": [
        "greyimage = cv2.cvtColor(image, cv2.COLOR_BGR2GRAY)\n",
        "greyimageinv = 255 - greyimage\n",
        "greyimageinv = cv2.GaussianBlur(greyimageinv, (21,21),0)\n",
        "output = cv2.divide(greyimage, 255 - greyimageinv, scale = 256.0)\n",
        "cv2.namedWindow('image', cv2.WINDOW_AUTOSIZE)\n",
        "cv2.namedWindow('pencilsketch', cv2.WINDOW_AUTOSIZE)\n",
        "cv2.imshow('image', image)\n",
        "cv2.imshow('pencilsketch', output)\n",
        "cv2.waitKey(0)\n",
        "cv2.destroyAllWindows()"
      ],
      "execution_count": null,
      "outputs": []
    },
    {
      "cell_type": "code",
      "metadata": {
        "id": "qgzpbDSTRxCC",
        "colab_type": "code",
        "colab": {}
      },
      "source": [
        ""
      ],
      "execution_count": null,
      "outputs": []
    }
  ]
}